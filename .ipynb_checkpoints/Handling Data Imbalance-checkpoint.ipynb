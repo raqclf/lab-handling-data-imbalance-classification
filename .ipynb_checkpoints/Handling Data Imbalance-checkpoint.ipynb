{
 "cells": [
  {
   "cell_type": "markdown",
   "id": "2c195c90",
   "metadata": {},
   "source": [
    "# Lab | Handling Data Imbalance in Classification Models"
   ]
  },
  {
   "cell_type": "code",
   "execution_count": 349,
   "id": "ccffe0b8",
   "metadata": {},
   "outputs": [],
   "source": [
    "import pandas as pd\n",
    "import numpy as np\n",
    "import statsmodels.api as sm\n",
    "import pandas as pd\n",
    "import numpy as np\n",
    "import matplotlib.pyplot as plt\n",
    "import seaborn as sns \n",
    "pd.set_option('display.max_columns', None)"
   ]
  },
  {
   "cell_type": "code",
   "execution_count": 350,
   "id": "92a3ace5",
   "metadata": {},
   "outputs": [],
   "source": [
    "churnData = pd.read_csv('files_for_lab/Customer-Churn.csv')"
   ]
  },
  {
   "cell_type": "code",
   "execution_count": 351,
   "id": "4db2feac",
   "metadata": {},
   "outputs": [
    {
     "data": {
      "text/html": [
       "<div>\n",
       "<style scoped>\n",
       "    .dataframe tbody tr th:only-of-type {\n",
       "        vertical-align: middle;\n",
       "    }\n",
       "\n",
       "    .dataframe tbody tr th {\n",
       "        vertical-align: top;\n",
       "    }\n",
       "\n",
       "    .dataframe thead th {\n",
       "        text-align: right;\n",
       "    }\n",
       "</style>\n",
       "<table border=\"1\" class=\"dataframe\">\n",
       "  <thead>\n",
       "    <tr style=\"text-align: right;\">\n",
       "      <th></th>\n",
       "      <th>gender</th>\n",
       "      <th>SeniorCitizen</th>\n",
       "      <th>Partner</th>\n",
       "      <th>Dependents</th>\n",
       "      <th>tenure</th>\n",
       "      <th>PhoneService</th>\n",
       "      <th>OnlineSecurity</th>\n",
       "      <th>OnlineBackup</th>\n",
       "      <th>DeviceProtection</th>\n",
       "      <th>TechSupport</th>\n",
       "      <th>StreamingTV</th>\n",
       "      <th>StreamingMovies</th>\n",
       "      <th>Contract</th>\n",
       "      <th>MonthlyCharges</th>\n",
       "      <th>TotalCharges</th>\n",
       "      <th>Churn</th>\n",
       "    </tr>\n",
       "  </thead>\n",
       "  <tbody>\n",
       "    <tr>\n",
       "      <th>0</th>\n",
       "      <td>Female</td>\n",
       "      <td>0</td>\n",
       "      <td>Yes</td>\n",
       "      <td>No</td>\n",
       "      <td>1</td>\n",
       "      <td>No</td>\n",
       "      <td>No</td>\n",
       "      <td>Yes</td>\n",
       "      <td>No</td>\n",
       "      <td>No</td>\n",
       "      <td>No</td>\n",
       "      <td>No</td>\n",
       "      <td>Month-to-month</td>\n",
       "      <td>29.85</td>\n",
       "      <td>29.85</td>\n",
       "      <td>No</td>\n",
       "    </tr>\n",
       "    <tr>\n",
       "      <th>1</th>\n",
       "      <td>Male</td>\n",
       "      <td>0</td>\n",
       "      <td>No</td>\n",
       "      <td>No</td>\n",
       "      <td>34</td>\n",
       "      <td>Yes</td>\n",
       "      <td>Yes</td>\n",
       "      <td>No</td>\n",
       "      <td>Yes</td>\n",
       "      <td>No</td>\n",
       "      <td>No</td>\n",
       "      <td>No</td>\n",
       "      <td>One year</td>\n",
       "      <td>56.95</td>\n",
       "      <td>1889.5</td>\n",
       "      <td>No</td>\n",
       "    </tr>\n",
       "    <tr>\n",
       "      <th>2</th>\n",
       "      <td>Male</td>\n",
       "      <td>0</td>\n",
       "      <td>No</td>\n",
       "      <td>No</td>\n",
       "      <td>2</td>\n",
       "      <td>Yes</td>\n",
       "      <td>Yes</td>\n",
       "      <td>Yes</td>\n",
       "      <td>No</td>\n",
       "      <td>No</td>\n",
       "      <td>No</td>\n",
       "      <td>No</td>\n",
       "      <td>Month-to-month</td>\n",
       "      <td>53.85</td>\n",
       "      <td>108.15</td>\n",
       "      <td>Yes</td>\n",
       "    </tr>\n",
       "    <tr>\n",
       "      <th>3</th>\n",
       "      <td>Male</td>\n",
       "      <td>0</td>\n",
       "      <td>No</td>\n",
       "      <td>No</td>\n",
       "      <td>45</td>\n",
       "      <td>No</td>\n",
       "      <td>Yes</td>\n",
       "      <td>No</td>\n",
       "      <td>Yes</td>\n",
       "      <td>Yes</td>\n",
       "      <td>No</td>\n",
       "      <td>No</td>\n",
       "      <td>One year</td>\n",
       "      <td>42.30</td>\n",
       "      <td>1840.75</td>\n",
       "      <td>No</td>\n",
       "    </tr>\n",
       "    <tr>\n",
       "      <th>4</th>\n",
       "      <td>Female</td>\n",
       "      <td>0</td>\n",
       "      <td>No</td>\n",
       "      <td>No</td>\n",
       "      <td>2</td>\n",
       "      <td>Yes</td>\n",
       "      <td>No</td>\n",
       "      <td>No</td>\n",
       "      <td>No</td>\n",
       "      <td>No</td>\n",
       "      <td>No</td>\n",
       "      <td>No</td>\n",
       "      <td>Month-to-month</td>\n",
       "      <td>70.70</td>\n",
       "      <td>151.65</td>\n",
       "      <td>Yes</td>\n",
       "    </tr>\n",
       "    <tr>\n",
       "      <th>...</th>\n",
       "      <td>...</td>\n",
       "      <td>...</td>\n",
       "      <td>...</td>\n",
       "      <td>...</td>\n",
       "      <td>...</td>\n",
       "      <td>...</td>\n",
       "      <td>...</td>\n",
       "      <td>...</td>\n",
       "      <td>...</td>\n",
       "      <td>...</td>\n",
       "      <td>...</td>\n",
       "      <td>...</td>\n",
       "      <td>...</td>\n",
       "      <td>...</td>\n",
       "      <td>...</td>\n",
       "      <td>...</td>\n",
       "    </tr>\n",
       "    <tr>\n",
       "      <th>7038</th>\n",
       "      <td>Male</td>\n",
       "      <td>0</td>\n",
       "      <td>Yes</td>\n",
       "      <td>Yes</td>\n",
       "      <td>24</td>\n",
       "      <td>Yes</td>\n",
       "      <td>Yes</td>\n",
       "      <td>No</td>\n",
       "      <td>Yes</td>\n",
       "      <td>Yes</td>\n",
       "      <td>Yes</td>\n",
       "      <td>Yes</td>\n",
       "      <td>One year</td>\n",
       "      <td>84.80</td>\n",
       "      <td>1990.5</td>\n",
       "      <td>No</td>\n",
       "    </tr>\n",
       "    <tr>\n",
       "      <th>7039</th>\n",
       "      <td>Female</td>\n",
       "      <td>0</td>\n",
       "      <td>Yes</td>\n",
       "      <td>Yes</td>\n",
       "      <td>72</td>\n",
       "      <td>Yes</td>\n",
       "      <td>No</td>\n",
       "      <td>Yes</td>\n",
       "      <td>Yes</td>\n",
       "      <td>No</td>\n",
       "      <td>Yes</td>\n",
       "      <td>Yes</td>\n",
       "      <td>One year</td>\n",
       "      <td>103.20</td>\n",
       "      <td>7362.9</td>\n",
       "      <td>No</td>\n",
       "    </tr>\n",
       "    <tr>\n",
       "      <th>7040</th>\n",
       "      <td>Female</td>\n",
       "      <td>0</td>\n",
       "      <td>Yes</td>\n",
       "      <td>Yes</td>\n",
       "      <td>11</td>\n",
       "      <td>No</td>\n",
       "      <td>Yes</td>\n",
       "      <td>No</td>\n",
       "      <td>No</td>\n",
       "      <td>No</td>\n",
       "      <td>No</td>\n",
       "      <td>No</td>\n",
       "      <td>Month-to-month</td>\n",
       "      <td>29.60</td>\n",
       "      <td>346.45</td>\n",
       "      <td>No</td>\n",
       "    </tr>\n",
       "    <tr>\n",
       "      <th>7041</th>\n",
       "      <td>Male</td>\n",
       "      <td>1</td>\n",
       "      <td>Yes</td>\n",
       "      <td>No</td>\n",
       "      <td>4</td>\n",
       "      <td>Yes</td>\n",
       "      <td>No</td>\n",
       "      <td>No</td>\n",
       "      <td>No</td>\n",
       "      <td>No</td>\n",
       "      <td>No</td>\n",
       "      <td>No</td>\n",
       "      <td>Month-to-month</td>\n",
       "      <td>74.40</td>\n",
       "      <td>306.6</td>\n",
       "      <td>Yes</td>\n",
       "    </tr>\n",
       "    <tr>\n",
       "      <th>7042</th>\n",
       "      <td>Male</td>\n",
       "      <td>0</td>\n",
       "      <td>No</td>\n",
       "      <td>No</td>\n",
       "      <td>66</td>\n",
       "      <td>Yes</td>\n",
       "      <td>Yes</td>\n",
       "      <td>No</td>\n",
       "      <td>Yes</td>\n",
       "      <td>Yes</td>\n",
       "      <td>Yes</td>\n",
       "      <td>Yes</td>\n",
       "      <td>Two year</td>\n",
       "      <td>105.65</td>\n",
       "      <td>6844.5</td>\n",
       "      <td>No</td>\n",
       "    </tr>\n",
       "  </tbody>\n",
       "</table>\n",
       "<p>7043 rows × 16 columns</p>\n",
       "</div>"
      ],
      "text/plain": [
       "      gender  SeniorCitizen Partner Dependents  tenure PhoneService  \\\n",
       "0     Female              0     Yes         No       1           No   \n",
       "1       Male              0      No         No      34          Yes   \n",
       "2       Male              0      No         No       2          Yes   \n",
       "3       Male              0      No         No      45           No   \n",
       "4     Female              0      No         No       2          Yes   \n",
       "...      ...            ...     ...        ...     ...          ...   \n",
       "7038    Male              0     Yes        Yes      24          Yes   \n",
       "7039  Female              0     Yes        Yes      72          Yes   \n",
       "7040  Female              0     Yes        Yes      11           No   \n",
       "7041    Male              1     Yes         No       4          Yes   \n",
       "7042    Male              0      No         No      66          Yes   \n",
       "\n",
       "     OnlineSecurity OnlineBackup DeviceProtection TechSupport StreamingTV  \\\n",
       "0                No          Yes               No          No          No   \n",
       "1               Yes           No              Yes          No          No   \n",
       "2               Yes          Yes               No          No          No   \n",
       "3               Yes           No              Yes         Yes          No   \n",
       "4                No           No               No          No          No   \n",
       "...             ...          ...              ...         ...         ...   \n",
       "7038            Yes           No              Yes         Yes         Yes   \n",
       "7039             No          Yes              Yes          No         Yes   \n",
       "7040            Yes           No               No          No          No   \n",
       "7041             No           No               No          No          No   \n",
       "7042            Yes           No              Yes         Yes         Yes   \n",
       "\n",
       "     StreamingMovies        Contract  MonthlyCharges TotalCharges Churn  \n",
       "0                 No  Month-to-month           29.85        29.85    No  \n",
       "1                 No        One year           56.95       1889.5    No  \n",
       "2                 No  Month-to-month           53.85       108.15   Yes  \n",
       "3                 No        One year           42.30      1840.75    No  \n",
       "4                 No  Month-to-month           70.70       151.65   Yes  \n",
       "...              ...             ...             ...          ...   ...  \n",
       "7038             Yes        One year           84.80       1990.5    No  \n",
       "7039             Yes        One year          103.20       7362.9    No  \n",
       "7040              No  Month-to-month           29.60       346.45    No  \n",
       "7041              No  Month-to-month           74.40        306.6   Yes  \n",
       "7042             Yes        Two year          105.65       6844.5    No  \n",
       "\n",
       "[7043 rows x 16 columns]"
      ]
     },
     "execution_count": 351,
     "metadata": {},
     "output_type": "execute_result"
    }
   ],
   "source": [
    "churnData"
   ]
  },
  {
   "cell_type": "markdown",
   "id": "157e66f0",
   "metadata": {},
   "source": [
    "### Scenario\n",
    "\n",
    "You are working as an analyst with this internet service provider. You are provided with this historical data about your company's customers and their churn trends. Your task is to build a machine learning model that will help the company identify customers that are more likely to default/churn and thus prevent losses from such customers."
   ]
  },
  {
   "cell_type": "markdown",
   "id": "fc3405cb",
   "metadata": {},
   "source": [
    "### Instructions\n",
    "\n",
    "In this lab, we will first take a look at the degree of imbalance in the data and correct it using the techniques we learned on the class.\n",
    "\n",
    "Here is the list of steps to be followed (building a simple model without balancing the data):\n",
    "\n",
    "- Import the required libraries and modules that you would need.\n",
    "- Read that data into Python and call the dataframe `churnData`.\n",
    "- Check the datatypes of all the columns in the data. You would see that the column `TotalCharges` is object type. Convert this column into numeric type using `pd.to_numeric` function.\n",
    "- Check for null values in the dataframe. Replace the null values."
   ]
  },
  {
   "cell_type": "code",
   "execution_count": 352,
   "id": "cf8035dc",
   "metadata": {},
   "outputs": [
    {
     "data": {
      "text/plain": [
       "gender               object\n",
       "SeniorCitizen         int64\n",
       "Partner              object\n",
       "Dependents           object\n",
       "tenure                int64\n",
       "PhoneService         object\n",
       "OnlineSecurity       object\n",
       "OnlineBackup         object\n",
       "DeviceProtection     object\n",
       "TechSupport          object\n",
       "StreamingTV          object\n",
       "StreamingMovies      object\n",
       "Contract             object\n",
       "MonthlyCharges      float64\n",
       "TotalCharges         object\n",
       "Churn                object\n",
       "dtype: object"
      ]
     },
     "execution_count": 352,
     "metadata": {},
     "output_type": "execute_result"
    }
   ],
   "source": [
    "churnData.dtypes"
   ]
  },
  {
   "cell_type": "code",
   "execution_count": 353,
   "id": "9e706574",
   "metadata": {},
   "outputs": [
    {
     "data": {
      "text/plain": [
       "          11\n",
       "20.2      11\n",
       "19.75      9\n",
       "20.05      8\n",
       "19.9       8\n",
       "          ..\n",
       "6849.4     1\n",
       "692.35     1\n",
       "130.15     1\n",
       "3211.9     1\n",
       "6844.5     1\n",
       "Name: TotalCharges, Length: 6531, dtype: int64"
      ]
     },
     "execution_count": 353,
     "metadata": {},
     "output_type": "execute_result"
    }
   ],
   "source": [
    "churnData['TotalCharges'].value_counts(dropna=False)"
   ]
  },
  {
   "cell_type": "code",
   "execution_count": 354,
   "id": "71ae1e5b",
   "metadata": {},
   "outputs": [],
   "source": [
    "churnData['TotalCharges'] = churnData['TotalCharges'].replace(\" \", \"\")"
   ]
  },
  {
   "cell_type": "code",
   "execution_count": 355,
   "id": "61c5a218",
   "metadata": {},
   "outputs": [],
   "source": [
    "churnData['TotalCharges'] = pd.to_numeric(churnData['TotalCharges'])"
   ]
  },
  {
   "cell_type": "code",
   "execution_count": 356,
   "id": "0b92769d",
   "metadata": {},
   "outputs": [
    {
     "data": {
      "text/plain": [
       "gender               0\n",
       "SeniorCitizen        0\n",
       "Partner              0\n",
       "Dependents           0\n",
       "tenure               0\n",
       "PhoneService         0\n",
       "OnlineSecurity       0\n",
       "OnlineBackup         0\n",
       "DeviceProtection     0\n",
       "TechSupport          0\n",
       "StreamingTV          0\n",
       "StreamingMovies      0\n",
       "Contract             0\n",
       "MonthlyCharges       0\n",
       "TotalCharges        11\n",
       "Churn                0\n",
       "dtype: int64"
      ]
     },
     "execution_count": 356,
     "metadata": {},
     "output_type": "execute_result"
    }
   ],
   "source": [
    "churnData.isna().sum()"
   ]
  },
  {
   "cell_type": "code",
   "execution_count": 357,
   "id": "7834f84d",
   "metadata": {},
   "outputs": [
    {
     "data": {
      "text/plain": [
       "NaN        11\n",
       "20.20      11\n",
       "19.75       9\n",
       "20.05       8\n",
       "19.90       8\n",
       "           ..\n",
       "6849.40     1\n",
       "692.35      1\n",
       "130.15      1\n",
       "3211.90     1\n",
       "6844.50     1\n",
       "Name: TotalCharges, Length: 6531, dtype: int64"
      ]
     },
     "execution_count": 357,
     "metadata": {},
     "output_type": "execute_result"
    }
   ],
   "source": [
    "churnData['TotalCharges'].value_counts(dropna=False)"
   ]
  },
  {
   "cell_type": "code",
   "execution_count": 358,
   "id": "0938fa1b",
   "metadata": {},
   "outputs": [
    {
     "name": "stderr",
     "output_type": "stream",
     "text": [
      "C:\\Users\\franc\\anaconda3\\lib\\site-packages\\seaborn\\distributions.py:2619: FutureWarning: `distplot` is a deprecated function and will be removed in a future version. Please adapt your code to use either `displot` (a figure-level function with similar flexibility) or `histplot` (an axes-level function for histograms).\n",
      "  warnings.warn(msg, FutureWarning)\n"
     ]
    },
    {
     "data": {
      "image/png": "[encoded data removed]",
      "text/plain": [
       "<Figure size 432x288 with 1 Axes>"
      ]
     },
     "metadata": {
      "needs_background": "light"
     },
     "output_type": "display_data"
    }
   ],
   "source": [
    "sns.distplot(churnData[churnData['TotalCharges'].isna()==False]['TotalCharges']) \n",
    "plt.show()"
   ]
  },
  {
   "cell_type": "code",
   "execution_count": 359,
   "id": "7d192ac6",
   "metadata": {},
   "outputs": [],
   "source": [
    "churnData['TotalCharges'] = churnData['TotalCharges'].fillna(0)"
   ]
  },
  {
   "cell_type": "markdown",
   "id": "4a8e2892",
   "metadata": {},
   "source": [
    "- Use the following features: `tenure`, `SeniorCitizen`, `MonthlyCharges` and `TotalCharges`:\n",
    "  - Scale the features either by using normalizer or a standard scaler.\n",
    "  - Split the data into a training set and a test set.\n",
    "  - Fit a logistic regression model on the training data.\n",
    "  - Check the accuracy on the test data."
   ]
  },
  {
   "cell_type": "code",
   "execution_count": 360,
   "id": "1e12cb96",
   "metadata": {},
   "outputs": [],
   "source": [
    "churn = churnData.copy()"
   ]
  },
  {
   "cell_type": "code",
   "execution_count": 361,
   "id": "27ec63f5",
   "metadata": {},
   "outputs": [
    {
     "data": {
      "text/plain": [
       "Index(['gender', 'SeniorCitizen', 'Partner', 'Dependents', 'tenure',\n",
       "       'PhoneService', 'OnlineSecurity', 'OnlineBackup', 'DeviceProtection',\n",
       "       'TechSupport', 'StreamingTV', 'StreamingMovies', 'Contract',\n",
       "       'MonthlyCharges', 'TotalCharges', 'Churn'],\n",
       "      dtype='object')"
      ]
     },
     "execution_count": 361,
     "metadata": {},
     "output_type": "execute_result"
    }
   ],
   "source": [
    "churn.columns"
   ]
  },
  {
   "cell_type": "code",
   "execution_count": 362,
   "id": "6d8c927a",
   "metadata": {},
   "outputs": [],
   "source": [
    "churn = churn.drop(['gender', 'Partner', 'Dependents',\n",
    "        'PhoneService', 'OnlineSecurity', 'OnlineBackup', 'DeviceProtection',\n",
    "        'TechSupport', 'StreamingTV', 'StreamingMovies', 'Contract',\n",
    "        'Churn'], axis = 1)"
   ]
  },
  {
   "cell_type": "code",
   "execution_count": 363,
   "id": "8abaf6e3",
   "metadata": {},
   "outputs": [
    {
     "data": {
      "text/html": [
       "<div>\n",
       "<style scoped>\n",
       "    .dataframe tbody tr th:only-of-type {\n",
       "        vertical-align: middle;\n",
       "    }\n",
       "\n",
       "    .dataframe tbody tr th {\n",
       "        vertical-align: top;\n",
       "    }\n",
       "\n",
       "    .dataframe thead th {\n",
       "        text-align: right;\n",
       "    }\n",
       "</style>\n",
       "<table border=\"1\" class=\"dataframe\">\n",
       "  <thead>\n",
       "    <tr style=\"text-align: right;\">\n",
       "      <th></th>\n",
       "      <th>SeniorCitizen</th>\n",
       "      <th>tenure</th>\n",
       "      <th>MonthlyCharges</th>\n",
       "      <th>TotalCharges</th>\n",
       "    </tr>\n",
       "  </thead>\n",
       "  <tbody>\n",
       "    <tr>\n",
       "      <th>0</th>\n",
       "      <td>0</td>\n",
       "      <td>1</td>\n",
       "      <td>29.85</td>\n",
       "      <td>29.85</td>\n",
       "    </tr>\n",
       "    <tr>\n",
       "      <th>1</th>\n",
       "      <td>0</td>\n",
       "      <td>34</td>\n",
       "      <td>56.95</td>\n",
       "      <td>1889.50</td>\n",
       "    </tr>\n",
       "    <tr>\n",
       "      <th>2</th>\n",
       "      <td>0</td>\n",
       "      <td>2</td>\n",
       "      <td>53.85</td>\n",
       "      <td>108.15</td>\n",
       "    </tr>\n",
       "    <tr>\n",
       "      <th>3</th>\n",
       "      <td>0</td>\n",
       "      <td>45</td>\n",
       "      <td>42.30</td>\n",
       "      <td>1840.75</td>\n",
       "    </tr>\n",
       "    <tr>\n",
       "      <th>4</th>\n",
       "      <td>0</td>\n",
       "      <td>2</td>\n",
       "      <td>70.70</td>\n",
       "      <td>151.65</td>\n",
       "    </tr>\n",
       "    <tr>\n",
       "      <th>...</th>\n",
       "      <td>...</td>\n",
       "      <td>...</td>\n",
       "      <td>...</td>\n",
       "      <td>...</td>\n",
       "    </tr>\n",
       "    <tr>\n",
       "      <th>7038</th>\n",
       "      <td>0</td>\n",
       "      <td>24</td>\n",
       "      <td>84.80</td>\n",
       "      <td>1990.50</td>\n",
       "    </tr>\n",
       "    <tr>\n",
       "      <th>7039</th>\n",
       "      <td>0</td>\n",
       "      <td>72</td>\n",
       "      <td>103.20</td>\n",
       "      <td>7362.90</td>\n",
       "    </tr>\n",
       "    <tr>\n",
       "      <th>7040</th>\n",
       "      <td>0</td>\n",
       "      <td>11</td>\n",
       "      <td>29.60</td>\n",
       "      <td>346.45</td>\n",
       "    </tr>\n",
       "    <tr>\n",
       "      <th>7041</th>\n",
       "      <td>1</td>\n",
       "      <td>4</td>\n",
       "      <td>74.40</td>\n",
       "      <td>306.60</td>\n",
       "    </tr>\n",
       "    <tr>\n",
       "      <th>7042</th>\n",
       "      <td>0</td>\n",
       "      <td>66</td>\n",
       "      <td>105.65</td>\n",
       "      <td>6844.50</td>\n",
       "    </tr>\n",
       "  </tbody>\n",
       "</table>\n",
       "<p>7043 rows × 4 columns</p>\n",
       "</div>"
      ],
      "text/plain": [
       "      SeniorCitizen  tenure  MonthlyCharges  TotalCharges\n",
       "0                 0       1           29.85         29.85\n",
       "1                 0      34           56.95       1889.50\n",
       "2                 0       2           53.85        108.15\n",
       "3                 0      45           42.30       1840.75\n",
       "4                 0       2           70.70        151.65\n",
       "...             ...     ...             ...           ...\n",
       "7038              0      24           84.80       1990.50\n",
       "7039              0      72          103.20       7362.90\n",
       "7040              0      11           29.60        346.45\n",
       "7041              1       4           74.40        306.60\n",
       "7042              0      66          105.65       6844.50\n",
       "\n",
       "[7043 rows x 4 columns]"
      ]
     },
     "execution_count": 363,
     "metadata": {},
     "output_type": "execute_result"
    }
   ],
   "source": [
    "churn"
   ]
  },
  {
   "cell_type": "code",
   "execution_count": 364,
   "id": "18e2bf41",
   "metadata": {},
   "outputs": [],
   "source": [
    "from sklearn.model_selection import train_test_split\n",
    "from sklearn.preprocessing import StandardScaler"
   ]
  },
  {
   "cell_type": "code",
   "execution_count": 365,
   "id": "87c67407",
   "metadata": {},
   "outputs": [],
   "source": [
    "X = churn\n",
    "y = np.where(churnData['Churn'] == 'Yes', 1, 0)"
   ]
  },
  {
   "cell_type": "code",
   "execution_count": 371,
   "id": "30027105",
   "metadata": {},
   "outputs": [],
   "source": [
    "X_train, X_test, y_train, y_test = train_test_split(\n",
    "    X, y,\n",
    "    test_size=0.4,\n",
    "    random_state=59\n",
    ")"
   ]
  },
  {
   "cell_type": "code",
   "execution_count": 372,
   "id": "ab943826",
   "metadata": {},
   "outputs": [],
   "source": [
    "X_train_scaled = scaler.fit_transform(X_train)"
   ]
  },
  {
   "cell_type": "code",
   "execution_count": 373,
   "id": "01332654",
   "metadata": {},
   "outputs": [],
   "source": [
    "X_test_scaled = scaler.transform(X_test)"
   ]
  },
  {
   "cell_type": "code",
   "execution_count": 374,
   "id": "908241fa",
   "metadata": {},
   "outputs": [],
   "source": [
    "from sklearn.linear_model import LogisticRegression\n",
    "classification = LogisticRegression(random_state=3, solver='lbfgs',\n",
    "                  multi_class='multinomial').fit(X_train_scaled, y_train)"
   ]
  },
  {
   "cell_type": "code",
   "execution_count": 375,
   "id": "d4ab8a2e",
   "metadata": {},
   "outputs": [
    {
     "data": {
      "text/plain": [
       "0.801277501774308"
      ]
     },
     "execution_count": 375,
     "metadata": {},
     "output_type": "execute_result"
    }
   ],
   "source": [
    "predictions = classification.predict(X_test_scaled)\n",
    "classification.score(X_test_scaled, y_test)"
   ]
  },
  {
   "cell_type": "markdown",
   "id": "88a585b3",
   "metadata": {},
   "source": [
    "**Note**: So far we have not balanced the data.\n",
    "\n",
    "Managing imbalance in the dataset\n",
    "\n",
    "- Check for the imbalance.\n",
    "- Use the resampling strategies used in class for upsampling and downsampling to create a balance between the two classes.\n",
    "- Each time fit the model and see how the accuracy of the model is.\n"
   ]
  },
  {
   "cell_type": "code",
   "execution_count": 376,
   "id": "fc47a702",
   "metadata": {},
   "outputs": [
    {
     "data": {
      "text/plain": [
       "No     5174\n",
       "Yes    1869\n",
       "Name: Churn, dtype: int64"
      ]
     },
     "execution_count": 376,
     "metadata": {},
     "output_type": "execute_result"
    }
   ],
   "source": [
    "churnData['Churn'].value_counts()"
   ]
  },
  {
   "cell_type": "code",
   "execution_count": 377,
   "id": "440b7ffd",
   "metadata": {},
   "outputs": [],
   "source": [
    "churn['Churn'] = y"
   ]
  },
  {
   "cell_type": "code",
   "execution_count": 378,
   "id": "70b86b3b",
   "metadata": {},
   "outputs": [
    {
     "data": {
      "text/html": [
       "<div>\n",
       "<style scoped>\n",
       "    .dataframe tbody tr th:only-of-type {\n",
       "        vertical-align: middle;\n",
       "    }\n",
       "\n",
       "    .dataframe tbody tr th {\n",
       "        vertical-align: top;\n",
       "    }\n",
       "\n",
       "    .dataframe thead th {\n",
       "        text-align: right;\n",
       "    }\n",
       "</style>\n",
       "<table border=\"1\" class=\"dataframe\">\n",
       "  <thead>\n",
       "    <tr style=\"text-align: right;\">\n",
       "      <th></th>\n",
       "      <th>SeniorCitizen</th>\n",
       "      <th>tenure</th>\n",
       "      <th>MonthlyCharges</th>\n",
       "      <th>TotalCharges</th>\n",
       "      <th>Churn</th>\n",
       "    </tr>\n",
       "  </thead>\n",
       "  <tbody>\n",
       "    <tr>\n",
       "      <th>0</th>\n",
       "      <td>0</td>\n",
       "      <td>1</td>\n",
       "      <td>29.85</td>\n",
       "      <td>29.85</td>\n",
       "      <td>0</td>\n",
       "    </tr>\n",
       "    <tr>\n",
       "      <th>1</th>\n",
       "      <td>0</td>\n",
       "      <td>34</td>\n",
       "      <td>56.95</td>\n",
       "      <td>1889.50</td>\n",
       "      <td>0</td>\n",
       "    </tr>\n",
       "    <tr>\n",
       "      <th>2</th>\n",
       "      <td>0</td>\n",
       "      <td>2</td>\n",
       "      <td>53.85</td>\n",
       "      <td>108.15</td>\n",
       "      <td>1</td>\n",
       "    </tr>\n",
       "    <tr>\n",
       "      <th>3</th>\n",
       "      <td>0</td>\n",
       "      <td>45</td>\n",
       "      <td>42.30</td>\n",
       "      <td>1840.75</td>\n",
       "      <td>0</td>\n",
       "    </tr>\n",
       "    <tr>\n",
       "      <th>4</th>\n",
       "      <td>0</td>\n",
       "      <td>2</td>\n",
       "      <td>70.70</td>\n",
       "      <td>151.65</td>\n",
       "      <td>1</td>\n",
       "    </tr>\n",
       "    <tr>\n",
       "      <th>...</th>\n",
       "      <td>...</td>\n",
       "      <td>...</td>\n",
       "      <td>...</td>\n",
       "      <td>...</td>\n",
       "      <td>...</td>\n",
       "    </tr>\n",
       "    <tr>\n",
       "      <th>7038</th>\n",
       "      <td>0</td>\n",
       "      <td>24</td>\n",
       "      <td>84.80</td>\n",
       "      <td>1990.50</td>\n",
       "      <td>0</td>\n",
       "    </tr>\n",
       "    <tr>\n",
       "      <th>7039</th>\n",
       "      <td>0</td>\n",
       "      <td>72</td>\n",
       "      <td>103.20</td>\n",
       "      <td>7362.90</td>\n",
       "      <td>0</td>\n",
       "    </tr>\n",
       "    <tr>\n",
       "      <th>7040</th>\n",
       "      <td>0</td>\n",
       "      <td>11</td>\n",
       "      <td>29.60</td>\n",
       "      <td>346.45</td>\n",
       "      <td>0</td>\n",
       "    </tr>\n",
       "    <tr>\n",
       "      <th>7041</th>\n",
       "      <td>1</td>\n",
       "      <td>4</td>\n",
       "      <td>74.40</td>\n",
       "      <td>306.60</td>\n",
       "      <td>1</td>\n",
       "    </tr>\n",
       "    <tr>\n",
       "      <th>7042</th>\n",
       "      <td>0</td>\n",
       "      <td>66</td>\n",
       "      <td>105.65</td>\n",
       "      <td>6844.50</td>\n",
       "      <td>0</td>\n",
       "    </tr>\n",
       "  </tbody>\n",
       "</table>\n",
       "<p>7043 rows × 5 columns</p>\n",
       "</div>"
      ],
      "text/plain": [
       "      SeniorCitizen  tenure  MonthlyCharges  TotalCharges  Churn\n",
       "0                 0       1           29.85         29.85      0\n",
       "1                 0      34           56.95       1889.50      0\n",
       "2                 0       2           53.85        108.15      1\n",
       "3                 0      45           42.30       1840.75      0\n",
       "4                 0       2           70.70        151.65      1\n",
       "...             ...     ...             ...           ...    ...\n",
       "7038              0      24           84.80       1990.50      0\n",
       "7039              0      72          103.20       7362.90      0\n",
       "7040              0      11           29.60        346.45      0\n",
       "7041              1       4           74.40        306.60      1\n",
       "7042              0      66          105.65       6844.50      0\n",
       "\n",
       "[7043 rows x 5 columns]"
      ]
     },
     "execution_count": 378,
     "metadata": {},
     "output_type": "execute_result"
    }
   ],
   "source": [
    "churn"
   ]
  },
  {
   "cell_type": "code",
   "execution_count": 379,
   "id": "ab92c0eb",
   "metadata": {},
   "outputs": [],
   "source": [
    "from sklearn.utils import resample\n",
    "\n",
    "category_0 = churn[churn['Churn'] == 0]\n",
    "category_1 = churn[churn['Churn'] == 1]"
   ]
  },
  {
   "cell_type": "markdown",
   "id": "0c343c82",
   "metadata": {},
   "source": [
    "### Downsampling"
   ]
  },
  {
   "cell_type": "code",
   "execution_count": 380,
   "id": "286ba9bf",
   "metadata": {},
   "outputs": [],
   "source": [
    "category_0_undersampled = resample(category_0, \n",
    "                                   replace=False, \n",
    "                                   n_samples = len(category_1))"
   ]
  },
  {
   "cell_type": "code",
   "execution_count": 381,
   "id": "1f0e37e8",
   "metadata": {},
   "outputs": [
    {
     "name": "stdout",
     "output_type": "stream",
     "text": [
      "(1869, 5)\n",
      "(1869, 5)\n"
     ]
    }
   ],
   "source": [
    "print(category_0_undersampled.shape)\n",
    "print(category_1.shape)"
   ]
  },
  {
   "cell_type": "code",
   "execution_count": 382,
   "id": "637be573",
   "metadata": {},
   "outputs": [],
   "source": [
    "churn_downsampled = pd.concat([category_0_undersampled, category_1], axis=0)"
   ]
  },
  {
   "cell_type": "code",
   "execution_count": 383,
   "id": "8947893d",
   "metadata": {},
   "outputs": [
    {
     "data": {
      "text/plain": [
       "0    1869\n",
       "1    1869\n",
       "Name: Churn, dtype: int64"
      ]
     },
     "execution_count": 383,
     "metadata": {},
     "output_type": "execute_result"
    }
   ],
   "source": [
    "churn_downsampled['Churn'].value_counts()"
   ]
  },
  {
   "cell_type": "code",
   "execution_count": 384,
   "id": "dd6e9033",
   "metadata": {},
   "outputs": [
    {
     "data": {
      "text/plain": [
       "0.7386363636363636"
      ]
     },
     "execution_count": 384,
     "metadata": {},
     "output_type": "execute_result"
    }
   ],
   "source": [
    "X_down = churn_downsampled.drop('Churn', axis = 1)\n",
    "y_down = churn_downsampled['Churn']\n",
    "\n",
    "X_down_train, X_down_test, y_down_train, y_down_test = train_test_split(\n",
    "    X_down, y_down,\n",
    "    test_size=0.4,\n",
    "    random_state=59\n",
    ")\n",
    "\n",
    "X_down_train_scaled = scaler.fit_transform(X_down_train)\n",
    "\n",
    "X_down_test_scaled = scaler.transform(X_down_test)\n",
    "\n",
    "classification = LogisticRegression(random_state=3, solver='lbfgs',\n",
    "                  multi_class='multinomial').fit(X_down_train_scaled, y_down_train)\n",
    "\n",
    "predictions = classification.predict(X_down_test_scaled)\n",
    "classification.score(X_down_test_scaled, y_down_test)"
   ]
  },
  {
   "cell_type": "markdown",
   "id": "67eb1a5d",
   "metadata": {},
   "source": [
    "### Upsampling"
   ]
  },
  {
   "cell_type": "code",
   "execution_count": 324,
   "id": "8a87d7c0",
   "metadata": {},
   "outputs": [],
   "source": [
    "category_1_oversampled = resample(category_1, \n",
    "                                  replace=True, \n",
    "                                  n_samples = len(category_0))"
   ]
  },
  {
   "cell_type": "code",
   "execution_count": 325,
   "id": "406ec246",
   "metadata": {},
   "outputs": [
    {
     "name": "stdout",
     "output_type": "stream",
     "text": [
      "(5174, 5)\n",
      "(5174, 5)\n"
     ]
    }
   ],
   "source": [
    "print(category_0.shape)\n",
    "print(category_1_oversampled.shape)"
   ]
  },
  {
   "cell_type": "code",
   "execution_count": 326,
   "id": "1ace77b9",
   "metadata": {},
   "outputs": [
    {
     "data": {
      "text/plain": [
       "0    5174\n",
       "1    5174\n",
       "Name: Churn, dtype: int64"
      ]
     },
     "execution_count": 326,
     "metadata": {},
     "output_type": "execute_result"
    }
   ],
   "source": [
    "churn_upsampled = pd.concat([category_0, category_1_oversampled], axis=0)\n",
    "\n",
    "churn_upsampled['Churn'].value_counts()"
   ]
  },
  {
   "cell_type": "code",
   "execution_count": 385,
   "id": "ca60dc70",
   "metadata": {},
   "outputs": [
    {
     "data": {
      "text/plain": [
       "0.7265700483091787"
      ]
     },
     "execution_count": 385,
     "metadata": {},
     "output_type": "execute_result"
    }
   ],
   "source": [
    "X_up = churn_upsampled.drop('Churn', axis = 1)\n",
    "y_up = churn_upsampled['Churn']\n",
    "\n",
    "X_up_train, X_up_test, y_up_train, y_up_test = train_test_split(\n",
    "    X_up, y_up,\n",
    "    test_size=0.4,\n",
    "    random_state=59\n",
    ")\n",
    "\n",
    "X_up_train_scaled = scaler.fit_transform(X_up_train)\n",
    "\n",
    "X_up_test_scaled = scaler.transform(X_up_test)\n",
    "\n",
    "classification = LogisticRegression(random_state=3, solver='lbfgs',\n",
    "                  multi_class='multinomial').fit(X_up_train_scaled, y_up_train)\n",
    "\n",
    "predictions = classification.predict(X_up_test_scaled)\n",
    "classification.score(X_up_test_scaled, y_up_test)"
   ]
  },
  {
   "cell_type": "markdown",
   "id": "49f44df2",
   "metadata": {},
   "source": [
    "### SMOTE"
   ]
  },
  {
   "cell_type": "code",
   "execution_count": 391,
   "id": "1ffdc77b",
   "metadata": {},
   "outputs": [],
   "source": [
    "from imblearn.over_sampling import SMOTE\n",
    "from sklearn.metrics import precision_score\n",
    "from sklearn.metrics import recall_score\n",
    "from sklearn.metrics import f1_score"
   ]
  },
  {
   "cell_type": "code",
   "execution_count": 399,
   "id": "a80ae49d",
   "metadata": {},
   "outputs": [],
   "source": [
    "sm = SMOTE(random_state=100,k_neighbors=3)\n",
    "X_train_SMOTE,y_train_SMOTE = sm.fit_resample(X_train_scaled,y_train)"
   ]
  },
  {
   "cell_type": "code",
   "execution_count": 400,
   "id": "e2e01537",
   "metadata": {},
   "outputs": [
    {
     "data": {
      "text/plain": [
       "(6144, 4)"
      ]
     },
     "execution_count": 400,
     "metadata": {},
     "output_type": "execute_result"
    }
   ],
   "source": [
    "X_train_SMOTE.shape"
   ]
  },
  {
   "cell_type": "code",
   "execution_count": 401,
   "id": "90f64865",
   "metadata": {},
   "outputs": [
    {
     "name": "stdout",
     "output_type": "stream",
     "text": [
      "precision:  0.49388523047977423\n",
      "recall:  0.7332402234636871\n",
      "f1:  0.5902192242833052\n"
     ]
    }
   ],
   "source": [
    "from sklearn.linear_model import LogisticRegression\n",
    "\n",
    "LR = LogisticRegression(max_iter=1000)\n",
    "LR.fit(X_train_SMOTE, y_train_SMOTE)\n",
    "pred = LR.predict(X_test_scaled)\n",
    "\n",
    "print(\"precision: \",precision_score(y_test,pred))\n",
    "print(\"recall: \",recall_score(y_test,pred))\n",
    "print(\"f1: \",f1_score(y_test,pred))"
   ]
  },
  {
   "cell_type": "code",
   "execution_count": 402,
   "id": "5a6311bb",
   "metadata": {},
   "outputs": [
    {
     "data": {
      "text/plain": [
       "0.6838183108587651"
      ]
     },
     "execution_count": 402,
     "metadata": {},
     "output_type": "execute_result"
    }
   ],
   "source": [
    "predictions = classification.predict(X_test_scaled)\n",
    "classification.score(X_test_scaled, y_test)"
   ]
  },
  {
   "cell_type": "code",
   "execution_count": null,
   "id": "2c7d358f",
   "metadata": {},
   "outputs": [],
   "source": []
  }
 ],
 "metadata": {
  "kernelspec": {
   "display_name": "Python 3 (ipykernel)",
   "language": "python",
   "name": "python3"
  },
  "language_info": {
   "codemirror_mode": {
    "name": "ipython",
    "version": 3
   },
   "file_extension": ".py",
   "mimetype": "text/x-python",
   "name": "python",
   "nbconvert_exporter": "python",
   "pygments_lexer": "ipython3",
   "version": "3.9.7"
  }
 },
 "nbformat": 4,
 "nbformat_minor": 5
}
